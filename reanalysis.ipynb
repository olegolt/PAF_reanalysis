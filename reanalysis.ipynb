{
 "cells": [
  {
   "attachments": {},
   "cell_type": "markdown",
   "metadata": {},
   "source": [
    "# Re-analysis for \"A novel cortical biomarker signature predicts individual pain sensitivity\""
   ]
  },
  {
   "attachments": {},
   "cell_type": "markdown",
   "metadata": {},
   "source": [
    "libaries"
   ]
  },
  {
   "cell_type": "code",
   "execution_count": 3,
   "metadata": {},
   "outputs": [],
   "source": [
    "import os\n",
    "import pandas as pd\n",
    "import numpy as np\n",
    "import matplotlib.pyplot as plt\n",
    "import seaborn as sns\n",
    "from sklearn.model_selection import train_test_split, GridSearchCV\n",
    "from sklearn.pipeline import Pipeline\n",
    "from sklearn.experimental import enable_iterative_imputer\n",
    "from sklearn.impute import IterativeImputer\n",
    "from sklearn.preprocessing import StandardScaler\n",
    "from sklearn.linear_model import LogisticRegression\n",
    "from sklearn.ensemble import RandomForestClassifier, GradientBoostingClassifier\n",
    "from sklearn.svm import SVC\n",
    "from sklearn.neural_network import MLPClassifier\n",
    "from sklearn.exceptions import ConvergenceWarning\n",
    "from sklearn.metrics import accuracy_score, roc_auc_score\n",
    "import subprocess\n",
    "import warnings\n",
    "warnings.filterwarnings(\"ignore\", category=ConvergenceWarning)"
   ]
  },
  {
   "attachments": {},
   "cell_type": "markdown",
   "metadata": {},
   "source": [
    "set your basepath"
   ]
  },
  {
   "cell_type": "code",
   "execution_count": 4,
   "metadata": {},
   "outputs": [],
   "source": [
    "# Define base path\n",
    "basepath = \"/home/ole/projects/PAF_reanalysis\""
   ]
  },
  {
   "attachments": {},
   "cell_type": "markdown",
   "metadata": {},
   "source": [
    "## Main analysis\n",
    "\n",
    "This does the following: \\\n",
    "\\\n",
    "(1) loads in complete dataset with PAF, CME and class for all subjects. \\\n",
    "(2) defines models and its parameter space \\\n",
    "(3) splits data in independent training and test set \\\n",
    "(4) uses gridsearch crossvalidation in training data to fit model \\\n",
    "(5) uses trained models to predict data of test set \\\n",
    "(6) reports accuracy and AUC for both, training and test set  \\\n",
    "\n",
    "This is repeatedly done to avoid an over/underestimation of the final metrics due to the relatively low sample size for a machine learning pipeline.\n",
    "\n",
    "Number of repetitions is set by parameter repetitions."
   ]
  },
  {
   "attachments": {},
   "cell_type": "markdown",
   "metadata": {},
   "source": [
    "set number of repetitions "
   ]
  },
  {
   "cell_type": "code",
   "execution_count": 18,
   "metadata": {},
   "outputs": [],
   "source": [
    "repetitions = 100"
   ]
  },
  {
   "attachments": {},
   "cell_type": "markdown",
   "metadata": {},
   "source": [
    "Pipeline"
   ]
  },
  {
   "cell_type": "code",
   "execution_count": 19,
   "metadata": {},
   "outputs": [
    {
     "name": "stdout",
     "output_type": "stream",
     "text": [
      "Running analysis pipeline for seed = 547\n"
     ]
    },
    {
     "name": "stderr",
     "output_type": "stream",
     "text": [
      "/home/ole/.local/lib/python3.8/site-packages/sklearn/neural_network/_multilayer_perceptron.py:691: ConvergenceWarning: Stochastic Optimizer: Maximum iterations (2000) reached and the optimization hasn't converged yet.\n",
      "  warnings.warn(\n"
     ]
    },
    {
     "name": "stdout",
     "output_type": "stream",
     "text": [
      "Running analysis pipeline for seed = 7777\n",
      "Running analysis pipeline for seed = 7013\n",
      "Running analysis pipeline for seed = 3258\n"
     ]
    },
    {
     "name": "stderr",
     "output_type": "stream",
     "text": [
      "/home/ole/.local/lib/python3.8/site-packages/sklearn/neural_network/_multilayer_perceptron.py:691: ConvergenceWarning: Stochastic Optimizer: Maximum iterations (2000) reached and the optimization hasn't converged yet.\n",
      "  warnings.warn(\n",
      "/home/ole/.local/lib/python3.8/site-packages/sklearn/neural_network/_multilayer_perceptron.py:691: ConvergenceWarning: Stochastic Optimizer: Maximum iterations (2000) reached and the optimization hasn't converged yet.\n",
      "  warnings.warn(\n",
      "/home/ole/.local/lib/python3.8/site-packages/sklearn/neural_network/_multilayer_perceptron.py:691: ConvergenceWarning: Stochastic Optimizer: Maximum iterations (2000) reached and the optimization hasn't converged yet.\n",
      "  warnings.warn(\n"
     ]
    },
    {
     "name": "stdout",
     "output_type": "stream",
     "text": [
      "Running analysis pipeline for seed = 1523\n",
      "Running analysis pipeline for seed = 3756\n",
      "Running analysis pipeline for seed = 3236\n",
      "Running analysis pipeline for seed = 6003\n"
     ]
    },
    {
     "name": "stderr",
     "output_type": "stream",
     "text": [
      "/home/ole/.local/lib/python3.8/site-packages/sklearn/neural_network/_multilayer_perceptron.py:691: ConvergenceWarning: Stochastic Optimizer: Maximum iterations (2000) reached and the optimization hasn't converged yet.\n",
      "  warnings.warn(\n"
     ]
    },
    {
     "name": "stdout",
     "output_type": "stream",
     "text": [
      "Running analysis pipeline for seed = 7646\n",
      "Running analysis pipeline for seed = 5772\n",
      "Running analysis pipeline for seed = 7400\n"
     ]
    },
    {
     "name": "stderr",
     "output_type": "stream",
     "text": [
      "/home/ole/.local/lib/python3.8/site-packages/sklearn/neural_network/_multilayer_perceptron.py:691: ConvergenceWarning: Stochastic Optimizer: Maximum iterations (2000) reached and the optimization hasn't converged yet.\n",
      "  warnings.warn(\n"
     ]
    },
    {
     "name": "stdout",
     "output_type": "stream",
     "text": [
      "Running analysis pipeline for seed = 257\n"
     ]
    },
    {
     "name": "stderr",
     "output_type": "stream",
     "text": [
      "/home/ole/.local/lib/python3.8/site-packages/sklearn/neural_network/_multilayer_perceptron.py:691: ConvergenceWarning: Stochastic Optimizer: Maximum iterations (2000) reached and the optimization hasn't converged yet.\n",
      "  warnings.warn(\n"
     ]
    },
    {
     "name": "stdout",
     "output_type": "stream",
     "text": [
      "Running analysis pipeline for seed = 2249\n",
      "Running analysis pipeline for seed = 8767\n",
      "Running analysis pipeline for seed = 7060\n"
     ]
    },
    {
     "name": "stderr",
     "output_type": "stream",
     "text": [
      "/home/ole/.local/lib/python3.8/site-packages/sklearn/neural_network/_multilayer_perceptron.py:691: ConvergenceWarning: Stochastic Optimizer: Maximum iterations (2000) reached and the optimization hasn't converged yet.\n",
      "  warnings.warn(\n",
      "/home/ole/.local/lib/python3.8/site-packages/sklearn/neural_network/_multilayer_perceptron.py:691: ConvergenceWarning: Stochastic Optimizer: Maximum iterations (2000) reached and the optimization hasn't converged yet.\n",
      "  warnings.warn(\n"
     ]
    },
    {
     "name": "stdout",
     "output_type": "stream",
     "text": [
      "Running analysis pipeline for seed = 776\n"
     ]
    },
    {
     "name": "stderr",
     "output_type": "stream",
     "text": [
      "/home/ole/.local/lib/python3.8/site-packages/sklearn/neural_network/_multilayer_perceptron.py:691: ConvergenceWarning: Stochastic Optimizer: Maximum iterations (2000) reached and the optimization hasn't converged yet.\n",
      "  warnings.warn(\n"
     ]
    },
    {
     "name": "stdout",
     "output_type": "stream",
     "text": [
      "Running analysis pipeline for seed = 9272\n",
      "Running analysis pipeline for seed = 8881\n"
     ]
    },
    {
     "name": "stderr",
     "output_type": "stream",
     "text": [
      "/home/ole/.local/lib/python3.8/site-packages/sklearn/neural_network/_multilayer_perceptron.py:691: ConvergenceWarning: Stochastic Optimizer: Maximum iterations (2000) reached and the optimization hasn't converged yet.\n",
      "  warnings.warn(\n"
     ]
    },
    {
     "name": "stdout",
     "output_type": "stream",
     "text": [
      "Running analysis pipeline for seed = 417\n",
      "Running analysis pipeline for seed = 2168\n",
      "Running analysis pipeline for seed = 5604\n"
     ]
    },
    {
     "name": "stderr",
     "output_type": "stream",
     "text": [
      "/home/ole/.local/lib/python3.8/site-packages/sklearn/neural_network/_multilayer_perceptron.py:691: ConvergenceWarning: Stochastic Optimizer: Maximum iterations (2000) reached and the optimization hasn't converged yet.\n",
      "  warnings.warn(\n"
     ]
    },
    {
     "name": "stdout",
     "output_type": "stream",
     "text": [
      "Running analysis pipeline for seed = 9782\n",
      "Running analysis pipeline for seed = 8365\n",
      "Running analysis pipeline for seed = 6605\n",
      "Running analysis pipeline for seed = 7506\n",
      "Running analysis pipeline for seed = 2216\n",
      "Running analysis pipeline for seed = 8553\n"
     ]
    },
    {
     "name": "stderr",
     "output_type": "stream",
     "text": [
      "/home/ole/.local/lib/python3.8/site-packages/sklearn/neural_network/_multilayer_perceptron.py:691: ConvergenceWarning: Stochastic Optimizer: Maximum iterations (2000) reached and the optimization hasn't converged yet.\n",
      "  warnings.warn(\n"
     ]
    },
    {
     "name": "stdout",
     "output_type": "stream",
     "text": [
      "Running analysis pipeline for seed = 8009\n",
      "Running analysis pipeline for seed = 8972\n"
     ]
    },
    {
     "name": "stderr",
     "output_type": "stream",
     "text": [
      "/home/ole/.local/lib/python3.8/site-packages/sklearn/neural_network/_multilayer_perceptron.py:691: ConvergenceWarning: Stochastic Optimizer: Maximum iterations (2000) reached and the optimization hasn't converged yet.\n",
      "  warnings.warn(\n"
     ]
    },
    {
     "name": "stdout",
     "output_type": "stream",
     "text": [
      "Running analysis pipeline for seed = 6186\n"
     ]
    },
    {
     "name": "stderr",
     "output_type": "stream",
     "text": [
      "/home/ole/.local/lib/python3.8/site-packages/sklearn/neural_network/_multilayer_perceptron.py:691: ConvergenceWarning: Stochastic Optimizer: Maximum iterations (2000) reached and the optimization hasn't converged yet.\n",
      "  warnings.warn(\n"
     ]
    },
    {
     "name": "stdout",
     "output_type": "stream",
     "text": [
      "Running analysis pipeline for seed = 7025\n"
     ]
    },
    {
     "name": "stderr",
     "output_type": "stream",
     "text": [
      "/home/ole/.local/lib/python3.8/site-packages/sklearn/neural_network/_multilayer_perceptron.py:691: ConvergenceWarning: Stochastic Optimizer: Maximum iterations (2000) reached and the optimization hasn't converged yet.\n",
      "  warnings.warn(\n"
     ]
    },
    {
     "name": "stdout",
     "output_type": "stream",
     "text": [
      "Running analysis pipeline for seed = 7982\n"
     ]
    },
    {
     "name": "stderr",
     "output_type": "stream",
     "text": [
      "/home/ole/.local/lib/python3.8/site-packages/sklearn/neural_network/_multilayer_perceptron.py:691: ConvergenceWarning: Stochastic Optimizer: Maximum iterations (2000) reached and the optimization hasn't converged yet.\n",
      "  warnings.warn(\n",
      "/home/ole/.local/lib/python3.8/site-packages/sklearn/neural_network/_multilayer_perceptron.py:691: ConvergenceWarning: Stochastic Optimizer: Maximum iterations (2000) reached and the optimization hasn't converged yet.\n",
      "  warnings.warn(\n",
      "/home/ole/.local/lib/python3.8/site-packages/sklearn/neural_network/_multilayer_perceptron.py:691: ConvergenceWarning: Stochastic Optimizer: Maximum iterations (2000) reached and the optimization hasn't converged yet.\n",
      "  warnings.warn(\n"
     ]
    },
    {
     "name": "stdout",
     "output_type": "stream",
     "text": [
      "Running analysis pipeline for seed = 6640\n",
      "Running analysis pipeline for seed = 3826\n"
     ]
    },
    {
     "name": "stderr",
     "output_type": "stream",
     "text": [
      "/home/ole/.local/lib/python3.8/site-packages/sklearn/neural_network/_multilayer_perceptron.py:691: ConvergenceWarning: Stochastic Optimizer: Maximum iterations (2000) reached and the optimization hasn't converged yet.\n",
      "  warnings.warn(\n"
     ]
    },
    {
     "name": "stdout",
     "output_type": "stream",
     "text": [
      "Running analysis pipeline for seed = 5266\n"
     ]
    },
    {
     "name": "stderr",
     "output_type": "stream",
     "text": [
      "/home/ole/.local/lib/python3.8/site-packages/sklearn/neural_network/_multilayer_perceptron.py:691: ConvergenceWarning: Stochastic Optimizer: Maximum iterations (2000) reached and the optimization hasn't converged yet.\n",
      "  warnings.warn(\n",
      "/home/ole/.local/lib/python3.8/site-packages/sklearn/neural_network/_multilayer_perceptron.py:691: ConvergenceWarning: Stochastic Optimizer: Maximum iterations (2000) reached and the optimization hasn't converged yet.\n",
      "  warnings.warn(\n"
     ]
    },
    {
     "name": "stdout",
     "output_type": "stream",
     "text": [
      "Running analysis pipeline for seed = 8669\n"
     ]
    },
    {
     "name": "stderr",
     "output_type": "stream",
     "text": [
      "/home/ole/.local/lib/python3.8/site-packages/sklearn/neural_network/_multilayer_perceptron.py:691: ConvergenceWarning: Stochastic Optimizer: Maximum iterations (2000) reached and the optimization hasn't converged yet.\n",
      "  warnings.warn(\n"
     ]
    },
    {
     "name": "stdout",
     "output_type": "stream",
     "text": [
      "Running analysis pipeline for seed = 4963\n",
      "Running analysis pipeline for seed = 3811\n"
     ]
    },
    {
     "name": "stderr",
     "output_type": "stream",
     "text": [
      "/home/ole/.local/lib/python3.8/site-packages/sklearn/neural_network/_multilayer_perceptron.py:691: ConvergenceWarning: Stochastic Optimizer: Maximum iterations (2000) reached and the optimization hasn't converged yet.\n",
      "  warnings.warn(\n"
     ]
    },
    {
     "name": "stdout",
     "output_type": "stream",
     "text": [
      "Running analysis pipeline for seed = 1708\n"
     ]
    },
    {
     "name": "stderr",
     "output_type": "stream",
     "text": [
      "/home/ole/.local/lib/python3.8/site-packages/sklearn/neural_network/_multilayer_perceptron.py:691: ConvergenceWarning: Stochastic Optimizer: Maximum iterations (2000) reached and the optimization hasn't converged yet.\n",
      "  warnings.warn(\n",
      "/home/ole/.local/lib/python3.8/site-packages/sklearn/neural_network/_multilayer_perceptron.py:691: ConvergenceWarning: Stochastic Optimizer: Maximum iterations (2000) reached and the optimization hasn't converged yet.\n",
      "  warnings.warn(\n"
     ]
    },
    {
     "name": "stdout",
     "output_type": "stream",
     "text": [
      "Running analysis pipeline for seed = 8645\n",
      "Running analysis pipeline for seed = 7353\n",
      "Running analysis pipeline for seed = 4372\n",
      "Running analysis pipeline for seed = 102\n",
      "Running analysis pipeline for seed = 439\n"
     ]
    },
    {
     "name": "stderr",
     "output_type": "stream",
     "text": [
      "/home/ole/.local/lib/python3.8/site-packages/sklearn/neural_network/_multilayer_perceptron.py:691: ConvergenceWarning: Stochastic Optimizer: Maximum iterations (2000) reached and the optimization hasn't converged yet.\n",
      "  warnings.warn(\n"
     ]
    },
    {
     "name": "stdout",
     "output_type": "stream",
     "text": [
      "Running analysis pipeline for seed = 6885\n"
     ]
    },
    {
     "name": "stderr",
     "output_type": "stream",
     "text": [
      "/home/ole/.local/lib/python3.8/site-packages/sklearn/neural_network/_multilayer_perceptron.py:691: ConvergenceWarning: Stochastic Optimizer: Maximum iterations (2000) reached and the optimization hasn't converged yet.\n",
      "  warnings.warn(\n",
      "/home/ole/.local/lib/python3.8/site-packages/sklearn/neural_network/_multilayer_perceptron.py:691: ConvergenceWarning: Stochastic Optimizer: Maximum iterations (2000) reached and the optimization hasn't converged yet.\n",
      "  warnings.warn(\n"
     ]
    },
    {
     "name": "stdout",
     "output_type": "stream",
     "text": [
      "Running analysis pipeline for seed = 4383\n"
     ]
    },
    {
     "name": "stderr",
     "output_type": "stream",
     "text": [
      "/home/ole/.local/lib/python3.8/site-packages/sklearn/neural_network/_multilayer_perceptron.py:691: ConvergenceWarning: Stochastic Optimizer: Maximum iterations (2000) reached and the optimization hasn't converged yet.\n",
      "  warnings.warn(\n"
     ]
    },
    {
     "name": "stdout",
     "output_type": "stream",
     "text": [
      "Running analysis pipeline for seed = 7600\n",
      "Running analysis pipeline for seed = 6253\n",
      "Running analysis pipeline for seed = 311\n",
      "Running analysis pipeline for seed = 2254\n",
      "Running analysis pipeline for seed = 6890\n",
      "Running analysis pipeline for seed = 2755\n",
      "Running analysis pipeline for seed = 2819\n",
      "Running analysis pipeline for seed = 6146\n",
      "Running analysis pipeline for seed = 9251\n"
     ]
    },
    {
     "name": "stderr",
     "output_type": "stream",
     "text": [
      "/home/ole/.local/lib/python3.8/site-packages/sklearn/neural_network/_multilayer_perceptron.py:691: ConvergenceWarning: Stochastic Optimizer: Maximum iterations (2000) reached and the optimization hasn't converged yet.\n",
      "  warnings.warn(\n"
     ]
    },
    {
     "name": "stdout",
     "output_type": "stream",
     "text": [
      "Running analysis pipeline for seed = 5493\n",
      "Running analysis pipeline for seed = 7707\n",
      "Running analysis pipeline for seed = 1071\n",
      "Running analysis pipeline for seed = 4528\n"
     ]
    },
    {
     "name": "stderr",
     "output_type": "stream",
     "text": [
      "/home/ole/.local/lib/python3.8/site-packages/sklearn/neural_network/_multilayer_perceptron.py:691: ConvergenceWarning: Stochastic Optimizer: Maximum iterations (2000) reached and the optimization hasn't converged yet.\n",
      "  warnings.warn(\n"
     ]
    },
    {
     "name": "stdout",
     "output_type": "stream",
     "text": [
      "Running analysis pipeline for seed = 5488\n",
      "Running analysis pipeline for seed = 7406\n",
      "Running analysis pipeline for seed = 1322\n",
      "Running analysis pipeline for seed = 8651\n",
      "Running analysis pipeline for seed = 6548\n",
      "Running analysis pipeline for seed = 9753\n"
     ]
    },
    {
     "name": "stderr",
     "output_type": "stream",
     "text": [
      "/home/ole/.local/lib/python3.8/site-packages/sklearn/neural_network/_multilayer_perceptron.py:691: ConvergenceWarning: Stochastic Optimizer: Maximum iterations (2000) reached and the optimization hasn't converged yet.\n",
      "  warnings.warn(\n"
     ]
    },
    {
     "name": "stdout",
     "output_type": "stream",
     "text": [
      "Running analysis pipeline for seed = 3315\n",
      "Running analysis pipeline for seed = 1238\n",
      "Running analysis pipeline for seed = 6229\n",
      "Running analysis pipeline for seed = 6626\n",
      "Running analysis pipeline for seed = 1591\n",
      "Running analysis pipeline for seed = 991\n",
      "Running analysis pipeline for seed = 5231\n",
      "Running analysis pipeline for seed = 4907\n"
     ]
    },
    {
     "name": "stderr",
     "output_type": "stream",
     "text": [
      "/home/ole/.local/lib/python3.8/site-packages/sklearn/neural_network/_multilayer_perceptron.py:691: ConvergenceWarning: Stochastic Optimizer: Maximum iterations (2000) reached and the optimization hasn't converged yet.\n",
      "  warnings.warn(\n",
      "/home/ole/.local/lib/python3.8/site-packages/sklearn/neural_network/_multilayer_perceptron.py:691: ConvergenceWarning: Stochastic Optimizer: Maximum iterations (2000) reached and the optimization hasn't converged yet.\n",
      "  warnings.warn(\n"
     ]
    },
    {
     "name": "stdout",
     "output_type": "stream",
     "text": [
      "Running analysis pipeline for seed = 7062\n",
      "Running analysis pipeline for seed = 4241\n",
      "Running analysis pipeline for seed = 6554\n"
     ]
    },
    {
     "name": "stderr",
     "output_type": "stream",
     "text": [
      "/home/ole/.local/lib/python3.8/site-packages/sklearn/neural_network/_multilayer_perceptron.py:691: ConvergenceWarning: Stochastic Optimizer: Maximum iterations (2000) reached and the optimization hasn't converged yet.\n",
      "  warnings.warn(\n"
     ]
    },
    {
     "name": "stdout",
     "output_type": "stream",
     "text": [
      "Running analysis pipeline for seed = 6977\n"
     ]
    },
    {
     "name": "stderr",
     "output_type": "stream",
     "text": [
      "/home/ole/.local/lib/python3.8/site-packages/sklearn/neural_network/_multilayer_perceptron.py:691: ConvergenceWarning: Stochastic Optimizer: Maximum iterations (2000) reached and the optimization hasn't converged yet.\n",
      "  warnings.warn(\n"
     ]
    },
    {
     "name": "stdout",
     "output_type": "stream",
     "text": [
      "Running analysis pipeline for seed = 6717\n"
     ]
    },
    {
     "name": "stderr",
     "output_type": "stream",
     "text": [
      "/home/ole/.local/lib/python3.8/site-packages/sklearn/neural_network/_multilayer_perceptron.py:691: ConvergenceWarning: Stochastic Optimizer: Maximum iterations (2000) reached and the optimization hasn't converged yet.\n",
      "  warnings.warn(\n",
      "/home/ole/.local/lib/python3.8/site-packages/sklearn/neural_network/_multilayer_perceptron.py:691: ConvergenceWarning: Stochastic Optimizer: Maximum iterations (2000) reached and the optimization hasn't converged yet.\n",
      "  warnings.warn(\n"
     ]
    },
    {
     "name": "stdout",
     "output_type": "stream",
     "text": [
      "Running analysis pipeline for seed = 9386\n"
     ]
    },
    {
     "name": "stderr",
     "output_type": "stream",
     "text": [
      "/home/ole/.local/lib/python3.8/site-packages/sklearn/neural_network/_multilayer_perceptron.py:691: ConvergenceWarning: Stochastic Optimizer: Maximum iterations (2000) reached and the optimization hasn't converged yet.\n",
      "  warnings.warn(\n"
     ]
    },
    {
     "name": "stdout",
     "output_type": "stream",
     "text": [
      "Running analysis pipeline for seed = 718\n",
      "Running analysis pipeline for seed = 3735\n",
      "Running analysis pipeline for seed = 8359\n",
      "Running analysis pipeline for seed = 7151\n",
      "Running analysis pipeline for seed = 170\n",
      "Running analysis pipeline for seed = 4487\n"
     ]
    },
    {
     "name": "stderr",
     "output_type": "stream",
     "text": [
      "/home/ole/.local/lib/python3.8/site-packages/sklearn/neural_network/_multilayer_perceptron.py:691: ConvergenceWarning: Stochastic Optimizer: Maximum iterations (2000) reached and the optimization hasn't converged yet.\n",
      "  warnings.warn(\n"
     ]
    },
    {
     "name": "stdout",
     "output_type": "stream",
     "text": [
      "Running analysis pipeline for seed = 2337\n",
      "Running analysis pipeline for seed = 3752\n",
      "Running analysis pipeline for seed = 7452\n",
      "Running analysis pipeline for seed = 9366\n",
      "Running analysis pipeline for seed = 7489\n",
      "Running analysis pipeline for seed = 2028\n"
     ]
    },
    {
     "name": "stderr",
     "output_type": "stream",
     "text": [
      "/home/ole/.local/lib/python3.8/site-packages/sklearn/neural_network/_multilayer_perceptron.py:691: ConvergenceWarning: Stochastic Optimizer: Maximum iterations (2000) reached and the optimization hasn't converged yet.\n",
      "  warnings.warn(\n",
      "/home/ole/.local/lib/python3.8/site-packages/sklearn/neural_network/_multilayer_perceptron.py:691: ConvergenceWarning: Stochastic Optimizer: Maximum iterations (2000) reached and the optimization hasn't converged yet.\n",
      "  warnings.warn(\n"
     ]
    },
    {
     "name": "stdout",
     "output_type": "stream",
     "text": [
      "Running analysis pipeline for seed = 4457\n",
      "Running analysis pipeline for seed = 3515\n",
      "Running analysis pipeline for seed = 9260\n",
      "Running analysis pipeline for seed = 9420\n",
      "Running analysis pipeline for seed = 4496\n",
      "Running analysis pipeline for seed = 5343\n"
     ]
    },
    {
     "name": "stderr",
     "output_type": "stream",
     "text": [
      "/home/ole/.local/lib/python3.8/site-packages/sklearn/neural_network/_multilayer_perceptron.py:691: ConvergenceWarning: Stochastic Optimizer: Maximum iterations (2000) reached and the optimization hasn't converged yet.\n",
      "  warnings.warn(\n"
     ]
    },
    {
     "name": "stdout",
     "output_type": "stream",
     "text": [
      "Running analysis pipeline for seed = 5153\n",
      "Running analysis pipeline for seed = 7890\n",
      "Running analysis pipeline for seed = 5956\n",
      "Analysis complete. Results saved.\n"
     ]
    }
   ],
   "source": [
    "# File paths for input data\n",
    "paf_file = os.path.join(basepath, \"data/PAF_all.xlsx\")\n",
    "cme_file = os.path.join(basepath, \"data/map_volume_all.xlsx\")\n",
    "class_file = os.path.join(basepath, \"data/class_IDs_all.xlsx\")\n",
    "yawn_pain_file = os.path.join(basepath, \"data/yawn_pain_all.csv\")\n",
    "chew_pain_file = os.path.join(basepath, \"data/chew_pain_all.csv\")\n",
    "\n",
    "# Load data from Excel and CSV files\n",
    "df_paf = pd.read_excel(paf_file)\n",
    "df_cme = pd.read_excel(cme_file)\n",
    "\n",
    "# Calculate CME values: 1 for increase in volume, 0 otherwise\n",
    "df_cme[\"CME\"] = (df_cme[\"Volume_Day5\"] - df_cme[\"Volume_Day0\"]).apply(lambda x: 1 if x > 0 else 0)\n",
    "\n",
    "# Load yawn and chew pain data, combining them\n",
    "df_yawn_pain = pd.read_csv(yawn_pain_file)\n",
    "df_chew_pain = pd.read_csv(chew_pain_file)\n",
    "df_all_pain = df_chew_pain.add(df_yawn_pain, fill_value=0)\n",
    "df_all_pain[\"ID\"] = df_yawn_pain[\"ID\"]\n",
    "\n",
    "# Models and hyperparameters\n",
    "models_and_params = {\n",
    "    \"LogisticRegression\": (\n",
    "        LogisticRegression(),\n",
    "        {\n",
    "            'model__C': np.logspace(-3, 3, 30),\n",
    "            'model__solver':  ['newton-cg', 'lbfgs'],\n",
    "            'model__max_iter': [200, 400, 2000, 5000]\n",
    "        }\n",
    "    ),\n",
    "    \"RandomForest\": (\n",
    "        RandomForestClassifier(),\n",
    "        {\n",
    "            'model__n_estimators': [300, 500, 1000],\n",
    "            'model__max_depth': [None, 5, 10],\n",
    "            'model__min_samples_split': [2, 5, 10],\n",
    "            'model__bootstrap': [True, False]\n",
    "        }\n",
    "    ),\n",
    "    \"GradientBoosting\": (\n",
    "        GradientBoostingClassifier(),\n",
    "        {\n",
    "            'model__learning_rate': [1, 0.1, 0.01, 0.01, 0.001],\n",
    "            'model__max_depth': [None, 2, 5],\n",
    "            'model__min_samples_split': [2, 5, 10],\n",
    "            'model__n_estimators': [300, 500, 1000]\n",
    "        }\n",
    "    ),\n",
    "    \"SVC\": (\n",
    "        SVC(probability=True),\n",
    "        {\n",
    "            'model__C': [0.01, 0.1, 1, 10, 100],\n",
    "            'model__gamma': ['scale', 'auto']\n",
    "        }\n",
    "    ),\n",
    "    \"MLPClassifier\": (\n",
    "        MLPClassifier(),\n",
    "        {\n",
    "            \"model__alpha\":[1e-3, 1e-2, 1e-1, 0, 1,10],\n",
    "            \"model__hidden_layer_sizes\":[(100,),(100,100),(100,100,100)],\n",
    "            \"model__max_iter\":[2000, 5000]\n",
    "        }\n",
    "    )\n",
    "}\n",
    "\n",
    "\n",
    "# Initialize results list and random seeds\n",
    "results = []\n",
    "random_seeds = np.random.choice(np.arange(0, 10000), size=repetitions, replace=False)\n",
    "\n",
    "# Loop through random seeds for cross-validation\n",
    "for seed in random_seeds:\n",
    "    print(f\"Running analysis pipeline for seed = {seed}\")\n",
    "    # Split the combined pain data into training and testing sets\n",
    "    X_train, X_test = train_test_split(\n",
    "        df_all_pain, test_size=1/3, random_state=seed\n",
    "    )\n",
    "\n",
    "    # Save split data to CSV files for further processing\n",
    "    X_train.to_csv(os.path.join(basepath, \"data/X_train.csv\"), index=False)\n",
    "    X_test.to_csv(os.path.join(basepath, \"data/X_test.csv\"), index=False)\n",
    "\n",
    "    # Execute R script for LGM model\n",
    "    script_path = os.path.join(basepath, \"run_LGM.R\")\n",
    "    subprocess.run([\"Rscript\", script_path], capture_output=True, text=True)\n",
    "\n",
    "    # Load classification results from R script\n",
    "    df_ID_LGM_train = pd.read_csv(os.path.join(basepath, \"data/Y_train.csv\"))\n",
    "    df_ID_LGM_test = pd.read_csv(os.path.join(basepath, \"data/Y_test.csv\"))\n",
    "\n",
    "    # Merge PAF and CME data with classification results for training and testing\n",
    "    data_train = df_ID_LGM_train.merge(df_paf, on=\"ID\", how=\"inner\").merge(\n",
    "        df_cme[[\"ID\", \"CME\"]], on=\"ID\", how=\"inner\"\n",
    "    )\n",
    "    data_test = df_ID_LGM_test.merge(df_paf, on=\"ID\", how=\"inner\").merge(\n",
    "        df_cme[[\"ID\", \"CME\"]], on=\"ID\", how=\"inner\"\n",
    "    )\n",
    "\n",
    "    # Extract features (X) and target (Y) for model training and testing\n",
    "    X_train, X_test = data_train[[\"sensorimotor_paf\", \"CME\"]], data_test[[\"sensorimotor_paf\", \"CME\"]]\n",
    "    Y_train, Y_test = data_train[\"class\"], data_test[\"class\"]\n",
    "\n",
    "    # Iterate over different models and their parameter grids\n",
    "    for model_name, (model, param_grid) in models_and_params.items():\n",
    "        # Create a machine learning pipeline\n",
    "        pipeline = Pipeline([\n",
    "            (\"imputer\", IterativeImputer(max_iter=100, random_state=seed)),\n",
    "            (\"scaler\", StandardScaler()),\n",
    "            (\"model\", model)\n",
    "        ])\n",
    "\n",
    "        # Perform grid search cross-validation\n",
    "        search = GridSearchCV(\n",
    "            pipeline, param_grid=param_grid, cv=5,\n",
    "            scoring=\"accuracy\", verbose=0, n_jobs=-1\n",
    "        )\n",
    "        search.fit(X_train, Y_train)\n",
    "\n",
    "        # Evaluate the best model on training and testing datasets\n",
    "        best_model = search.best_estimator_\n",
    "        for dataset, X_eval, y_eval, label in zip(\n",
    "            [\"train\", \"test\"], [X_train, X_test], [Y_train, Y_test], [\"Training\", \"Test\"]\n",
    "        ):\n",
    "            y_pred = best_model.predict(X_eval)\n",
    "            y_pred_proba = best_model.predict_proba(X_eval)[:, 1]\n",
    "            accuracy = accuracy_score(y_eval, y_pred)\n",
    "            auc = roc_auc_score(y_eval, y_pred_proba)\n",
    "            results.append({\n",
    "                \"Seed\": seed,\n",
    "                \"Model\": model_name,\n",
    "                \"Dataset\": label,\n",
    "                \"Accuracy\": accuracy,\n",
    "                \"AUC\": auc\n",
    "            })\n",
    "\n",
    "# Convert results to DataFrame for aggregation and saving\n",
    "results_df = pd.DataFrame(results)\n",
    "\n",
    "# Aggregate results by model and dataset\n",
    "summary = results_df.groupby([\"Model\", \"Dataset\"]).mean()[[\"Accuracy\", \"AUC\"]].reset_index()\n",
    "\n",
    "# Save detailed and summary results to CSV files\n",
    "results_path = os.path.join(basepath, \"results\")\n",
    "os.makedirs(results_path, exist_ok=True)\n",
    "results_df.to_csv(os.path.join(results_path, \"results_all_runs.csv\"), index=False)\n",
    "summary.to_csv(os.path.join(results_path, \"summary_results.csv\"), index=False)\n",
    "\n",
    "print(\"Analysis complete. Results saved.\")\n"
   ]
  },
  {
   "attachments": {},
   "cell_type": "markdown",
   "metadata": {},
   "source": [
    "## Create plots for accuracy and AUC for all models \n",
    "\\\n",
    "Plot will only display the average for both metrics across all repetitions of the pipeline"
   ]
  },
  {
   "cell_type": "code",
   "execution_count": 24,
   "metadata": {},
   "outputs": [
    {
     "name": "stdout",
     "output_type": "stream",
     "text": [
      "Saved Accuracy plot as SVG: /home/ole/projects/PAF_reanalysis/figures/Accuracy_by_Model.svg\n",
      "Saved AUC plot as SVG: /home/ole/projects/PAF_reanalysis/figures/AUC_by_Model.svg\n"
     ]
    }
   ],
   "source": [
    "# Define the order of the Dataset categories\n",
    "hue_order = [\"Training\", \"Test\"]\n",
    "\n",
    "# Melt the DataFrame for easier plotting\n",
    "plot_df = summary.melt(id_vars=[\"Model\", \"Dataset\"], value_vars=[\"Accuracy\", \"AUC\"], \n",
    "                       var_name=\"Metric\", value_name=\"Score\")\n",
    "\n",
    "# Create the bar plot for Accuracy and AUC\n",
    "for metric in [\"Accuracy\", \"AUC\"]:\n",
    "    plt.figure(figsize=(12, 10))\n",
    "    sns.barplot(\n",
    "        data=plot_df[plot_df[\"Metric\"] == metric],\n",
    "        x=\"Score\",\n",
    "        y=\"Model\",\n",
    "        hue=\"Dataset\",\n",
    "        hue_order=hue_order,  # Ensure Training is always left and Test is right\n",
    "        palette={\"Training\": \"#9fc8c8\", \"Test\": \"#298c8c\"}  # Adjust colors\n",
    "    )\n",
    "\n",
    "    # Add values on bars\n",
    "    for container in plt.gca().containers:\n",
    "        labels = [f\"{v.get_width():.2f}\" for v in container]\n",
    "        plt.gca().bar_label(container, labels=labels, label_type='edge', fontsize=14)\n",
    "\n",
    "    # Add title and labels\n",
    "    plt.title(f\"{metric} by Model\", fontsize=20, fontweight=\"bold\")\n",
    "    plt.xlabel(metric, fontsize=16)\n",
    "    plt.ylabel(\"Model\", fontsize=16)\n",
    "    plt.xticks(fontsize=14)\n",
    "    plt.yticks(fontsize=14)\n",
    "    plt.legend(title=\"Dataset\", fontsize=14, title_fontsize=16, loc=\"lower right\")\n",
    "\n",
    "    # Remove grid lines\n",
    "    plt.gca().grid(False)\n",
    "    plt.gca().spines[\"left\"].set_linewidth(0.5)\n",
    "    plt.gca().spines[\"bottom\"].set_linewidth(0.5)\n",
    "\n",
    "    # Save the figure as an SVG\n",
    "    filename = os.path.join(basepath, f\"figures/{metric}_by_Model.svg\")\n",
    "    plt.tight_layout()\n",
    "    plt.savefig(filename, format=\"svg\")\n",
    "    plt.close()  # Close the plot to avoid overlap\n",
    "\n",
    "    print(f\"Saved {metric} plot as SVG: {filename}\")\n"
   ]
  },
  {
   "attachments": {},
   "cell_type": "markdown",
   "metadata": {},
   "source": [
    "## Create histogram of test set metrics (for different random seeds)"
   ]
  },
  {
   "cell_type": "code",
   "execution_count": 12,
   "metadata": {},
   "outputs": [
    {
     "data": {
      "image/png": "[encoded data removed]",
      "text/plain": [
       "<Figure size 1200x500 with 2 Axes>"
      ]
     },
     "metadata": {},
     "output_type": "display_data"
    }
   ],
   "source": [
    "# Load the data\n",
    "file_path = os.path.join(basepath,\"results/results_all_runs.csv\")\n",
    "results_df = pd.read_csv(file_path)\n",
    "\n",
    "# Filter for LogisticRegression on Test dataset\n",
    "logreg_test_df = results_df[(results_df[\"Model\"] == \"LogisticRegression\") & (results_df[\"Dataset\"] == \"Test\")]\n",
    "\n",
    "# Set up the figure\n",
    "fig, axes = plt.subplots(1, 2, figsize=(12, 5))\n",
    "\n",
    "# Plot Accuracy histogram\n",
    "sns.histplot(logreg_test_df[\"Accuracy\"], bins=20, kde=True, ax=axes[0], color=\"blue\")\n",
    "axes[0].set_title(\"Histogram of Accuracy (Logistic Regression, Test)\")\n",
    "axes[0].set_xlabel(\"Accuracy\")\n",
    "axes[0].set_ylabel(\"Count\")\n",
    "\n",
    "# Plot AUC histogram\n",
    "sns.histplot(logreg_test_df[\"AUC\"], bins=20, kde=True, ax=axes[1], color=\"green\")\n",
    "axes[1].set_title(\"Histogram of AUC (Logistic Regression, Test)\")\n",
    "axes[1].set_xlabel(\"AUC\")\n",
    "axes[1].set_ylabel(\"Count\")\n",
    "\n",
    "plt.savefig(os.path.join(basepath, \"figures/Metrics_testset_histogram.svg\"), format=\"svg\")\n",
    "\n",
    "# Show plots\n",
    "plt.tight_layout()\n",
    "plt.show()\n",
    "\n",
    "\n"
   ]
  },
  {
   "cell_type": "code",
   "execution_count": null,
   "metadata": {},
   "outputs": [],
   "source": []
  }
 ],
 "metadata": {
  "kernelspec": {
   "display_name": "Python 3",
   "language": "python",
   "name": "python3"
  },
  "language_info": {
   "codemirror_mode": {
    "name": "ipython",
    "version": 3
   },
   "file_extension": ".py",
   "mimetype": "text/x-python",
   "name": "python",
   "nbconvert_exporter": "python",
   "pygments_lexer": "ipython3",
   "version": "3.8.10"
  },
  "orig_nbformat": 4
 },
 "nbformat": 4,
 "nbformat_minor": 2
}
